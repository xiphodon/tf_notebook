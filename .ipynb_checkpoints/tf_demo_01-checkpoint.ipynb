{
 "cells": [
  {
   "cell_type": "code",
   "execution_count": 1,
   "metadata": {},
   "outputs": [],
   "source": [
    "import tensorflow as tf\n",
    "import numpy as np\n",
    "import matplotlib.pyplot as plt"
   ]
  },
  {
   "cell_type": "code",
   "execution_count": 2,
   "metadata": {},
   "outputs": [],
   "source": [
    "%matplotlib inline"
   ]
  },
  {
   "cell_type": "code",
   "execution_count": 3,
   "metadata": {},
   "outputs": [
    {
     "data": {
      "image/png": "[encoded data removed]",
      "text/plain": [
       "<matplotlib.figure.Figure at 0x24191ac1cf8>"
      ]
     },
     "metadata": {},
     "output_type": "display_data"
    }
   ],
   "source": [
    "# 测试\n",
    "a = tf.random_normal([2, 20])\n",
    "sess = tf.Session()\n",
    "out = sess.run(a)\n",
    "x, y = out\n",
    "\n",
    "plt.scatter(x, y)\n",
    "plt.show()\n",
    "\n",
    "sess.close()"
   ]
  },
  {
   "cell_type": "code",
   "execution_count": 4,
   "metadata": {},
   "outputs": [
    {
     "name": "stdout",
     "output_type": "stream",
     "text": [
      "23\n"
     ]
    }
   ],
   "source": [
    "# test01\n",
    "# 构建流图\n",
    "a = tf.constant(5, name='input_a')\n",
    "b = tf.constant(3, name='input_b')\n",
    "c = tf.multiply(a, b, name='multiply_c')\n",
    "d = tf.add(a, b, name='add_d')\n",
    "e = tf.add(c, d, name='add_e')\n",
    "\n",
    "sess = tf.Session()\n",
    "output = sess.run(e)\n",
    "print(output)"
   ]
  },
  {
   "cell_type": "code",
   "execution_count": 5,
   "metadata": {},
   "outputs": [],
   "source": [
    "# 将流图存储\n",
    "# 键入命令 tensorboard --logdir=\"tf_graph\"\n",
    "# 启动后，通过http://localhost:6006访问\n",
    "writer = tf.summary.FileWriter('./tf_graph', sess.graph)"
   ]
  },
  {
   "cell_type": "code",
   "execution_count": 7,
   "metadata": {},
   "outputs": [],
   "source": [
    "writer.close()\n",
    "sess.close()"
   ]
  },
  {
   "cell_type": "code",
   "execution_count": 8,
   "metadata": {},
   "outputs": [
    {
     "name": "stdout",
     "output_type": "stream",
     "text": [
      "23\n"
     ]
    }
   ],
   "source": [
    "# test02\n",
    "# 使用张量构建流图\n",
    "a = tf.constant([5, 3], name='input_a')\n",
    "b = tf.reduce_prod(a, name='prod_b') # 累乘，遵循reduce计算规则\n",
    "c = tf.reduce_sum(a, name='sum_c') # 累加，遵循reduce计算规则\n",
    "d = tf.add(b, c, name='add_d')\n",
    "\n",
    "sess = tf.Session()\n",
    "output = sess.run(d)\n",
    "print(output)"
   ]
  },
  {
   "cell_type": "code",
   "execution_count": 9,
   "metadata": {},
   "outputs": [],
   "source": [
    "sess.close()"
   ]
  },
  {
   "cell_type": "code",
   "execution_count": 10,
   "metadata": {},
   "outputs": [],
   "source": []
  },
  {
   "cell_type": "code",
   "execution_count": 15,
   "metadata": {},
   "outputs": [],
   "source": [
    "# test03\n",
    "graph = tf.Graph()\n",
    "\n",
    "with graph.as_default():\n",
    "    input_1 = tf.placeholder(tf.float32, shape=[], name='input_a')\n",
    "    input_2 = tf.placeholder(tf.float32, shape=[], name='input_b')\n",
    "    constant_1 = tf.constant(3, dtype=tf.float32, name='static_value')\n",
    "    \n",
    "    with tf.name_scope('Transformation'):\n",
    "        \n",
    "        with tf.name_scope('A'):\n",
    "            A_mul = tf.multiply(input_1, constant_1)\n",
    "            A_out = tf.subtract(A_mul, input_1)\n",
    "            \n",
    "        with tf.name_scope('B'):\n",
    "            B_mul = tf.multiply(input_2, constant_1)\n",
    "            B_out = tf.subtract(B_mul, input_2)\n",
    "            \n",
    "        with tf.name_scope('C'):\n",
    "            C_div = tf.truediv(A_out, B_out)\n",
    "            C_out = tf.add(C_div, constant_1)\n",
    "            \n",
    "        with tf.name_scope('D'):\n",
    "            D_div = tf.truediv(B_out, A_out)\n",
    "            D_out = tf.add(D_div, constant_1)\n",
    "            \n",
    "        with tf.name_scope('E'):\n",
    "            E_out = tf.maximum(C_out, D_out)\n",
    "            \n",
    "        writer = tf.summary.FileWriter('./tf_graph_02', graph=graph)\n",
    "        writer.close()\n",
    "\n",
    "# 同样  tensorboard --logdir=\"tf_graph\" 出流图"
   ]
  },
  {
   "cell_type": "code",
   "execution_count": null,
   "metadata": {},
   "outputs": [],
   "source": []
  }
 ],
 "metadata": {
  "kernelspec": {
   "display_name": "Python 3",
   "language": "python",
   "name": "python3"
  },
  "language_info": {
   "codemirror_mode": {
    "name": "ipython",
    "version": 3
   },
   "file_extension": ".py",
   "mimetype": "text/x-python",
   "name": "python",
   "nbconvert_exporter": "python",
   "pygments_lexer": "ipython3",
   "version": "3.6.3"
  }
 },
 "nbformat": 4,
 "nbformat_minor": 2
}
